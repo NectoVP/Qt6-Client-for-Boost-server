{
 "cells": [
  {
   "cell_type": "code",
   "execution_count": 2,
   "metadata": {},
   "outputs": [],
   "source": [
    "from selenium import webdriver\n",
    "from selenium.webdriver.chrome.options import Options\n",
    "from bs4 import BeautifulSoup\n",
    "import time\n"
   ]
  },
  {
   "cell_type": "code",
   "execution_count": null,
   "metadata": {},
   "outputs": [
    {
     "name": "stdout",
     "output_type": "stream",
     "text": [
      "Loading page...\n",
      "Waiting for product cards...\n",
      "Saved 32 product images to product_images.html\n"
     ]
    }
   ],
   "source": [
    "from selenium import webdriver\n",
    "from selenium.webdriver.common.by import By\n",
    "from selenium.webdriver.support.ui import WebDriverWait\n",
    "from selenium.webdriver.support import expected_conditions as EC\n",
    "from bs4 import BeautifulSoup\n",
    "import time\n",
    "\n",
    "url = \"https://vkusnoitochka.ru/\"\n",
    "\n",
    "options = webdriver.ChromeOptions()\n",
    "options.page_load_strategy = 'eager' \n",
    "options.add_argument(\"--disable-images\")\n",
    "\n",
    "driver = webdriver.Chrome(options=options)\n",
    "driver.set_page_load_timeout(30)\n",
    "\n",
    "driver.get(url)\n",
    "time.sleep(5)\n",
    "\n",
    "soup = BeautifulSoup(driver.page_source, 'html.parser')\n",
    "product_section = soup.find_all(class_=\"product-card__image\")\n",
    "\n",
    "with open(\"products.html\", \"w\", encoding=\"utf-8\") as f:\n",
    "    for product in product_section:\n",
    "        f.write(str(product) + \"\\n\")\n",
    "\n",
    "print(f\"Saved {len(product_section)} product images to product_images.html\")"
   ]
  },
  {
   "cell_type": "code",
   "execution_count": 4,
   "metadata": {},
   "outputs": [
    {
     "name": "stdout",
     "output_type": "stream",
     "text": [
      "Para Big Speshial s gribami\n",
      "Para Big Speshial\n",
      "Para Big Khit\n",
      "Set Big Khit s Naggetsami\n",
      "Set Grand s Naggetsami\n",
      "Set Chiken Prem'er s Naggetsami\n",
      "Para: Big Khit/Grand i Chiken Prem'er\n"
     ]
    }
   ],
   "source": [
    "import json\n",
    "import random\n",
    "import html\n",
    "from anyascii import anyascii \n",
    "\n",
    "with open(\"products.html\", \"r\", encoding=\"utf-8\") as file:\n",
    "    html_content = file.read()\n",
    "\n",
    "soup = BeautifulSoup(html_content, \"html.parser\")\n",
    "\n",
    "product_images = soup.find_all(class_=\"common-image\")\n",
    "\n",
    "all_json_items = []\n",
    "all_json_items_initial_count = []\n",
    "\n",
    "id = 1\n",
    "for product in product_images:\n",
    "    desc_dict = {}\n",
    "    count_dict = {}\n",
    "    \n",
    "    img = product.find('img')\n",
    "    \n",
    "    desc_dict['id'] = id\n",
    "    desc_dict['cost'] = random.randint(10, 99) * 10\n",
    "    desc_dict['cooking_time'] = random.randint(10, 99) * 10\n",
    "    desc_dict['ru_name'] = img['alt']\n",
    "    desc_dict['en_name'] = anyascii(img['alt'])\n",
    "    desc_dict['pic_url'] = img['src']\n",
    "    \n",
    "    count_dict['id'] = id\n",
    "    count_dict['amount'] = random.randint(5, 15)\n",
    "\n",
    "    if(str(desc_dict['ru_name']).find('Пара') == -1 and str(desc_dict['ru_name']).find('Сет') == -1):\n",
    "        all_json_items.append(desc_dict)\n",
    "        all_json_items_initial_count.append(count_dict)\n",
    "        id += 1\n",
    "    else:\n",
    "        print(anyascii(str(img['alt'])))\n",
    "\n",
    "with open('items_desc_prod.json', 'w', encoding='utf-8') as f:\n",
    "    json.dump(all_json_items, fp=f, indent=4, ensure_ascii=False)\n",
    "\n",
    "with open('items_initial_count_prod.json', 'w') as f:\n",
    "    json.dump(all_json_items_initial_count, fp=f, indent=4)"
   ]
  }
 ],
 "metadata": {
  "kernelspec": {
   "display_name": ".venv",
   "language": "python",
   "name": "python3"
  },
  "language_info": {
   "codemirror_mode": {
    "name": "ipython",
    "version": 3
   },
   "file_extension": ".py",
   "mimetype": "text/x-python",
   "name": "python",
   "nbconvert_exporter": "python",
   "pygments_lexer": "ipython3",
   "version": "3.12.3"
  }
 },
 "nbformat": 4,
 "nbformat_minor": 2
}
